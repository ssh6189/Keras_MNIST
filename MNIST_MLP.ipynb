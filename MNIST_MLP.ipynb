{
 "cells": [
  {
   "cell_type": "code",
   "execution_count": 1,
   "metadata": {},
   "outputs": [
    {
     "name": "stderr",
     "output_type": "stream",
     "text": [
      "Using TensorFlow backend.\n"
     ]
    }
   ],
   "source": [
    "#MLP로 MNIST분류 문제 풀기\n",
    "import keras\n",
    "from keras.models import Sequential\n",
    "from keras.layers import Dense, Dropout\n",
    "from keras.optimizers import RMSprop\n",
    "from keras.datasets import mnist\n",
    "import matplotlib.pyplot as plt"
   ]
  },
  {
   "cell_type": "code",
   "execution_count": 2,
   "metadata": {},
   "outputs": [],
   "source": [
    "#입력과 출력 지정하기\n",
    "in_size = 28*28\n",
    "out_size = 10"
   ]
  },
  {
   "cell_type": "code",
   "execution_count": 3,
   "metadata": {},
   "outputs": [],
   "source": [
    "#MNIST 데이터 읽어 들이기\n",
    "(X_train, y_train), (X_test, y_test) = mnist.load_data()\n",
    "\n",
    "#데이터를 28*28 = 784 1차원 배열로 변환하기\n",
    "X_train = X_train.reshape(-1, 784).astype('float32')/255\n",
    "X_test = X_test.reshape(-1, 784).astype('float32')/255\n",
    "\n",
    "#레이블 데이터를 One-hot 형식으로 변환하기\n",
    "y_train = keras.utils.np_utils.to_categorical(y_train.astype('int32'), 10)\n",
    "y_test = keras.utils.np_utils.to_categorical(y_test.astype('int32'), 10)"
   ]
  },
  {
   "cell_type": "code",
   "execution_count": 4,
   "metadata": {},
   "outputs": [
    {
     "name": "stdout",
     "output_type": "stream",
     "text": [
      "WARNING:tensorflow:From C:\\Users\\user\\anaconda\\envs\\test\\lib\\site-packages\\tensorflow_core\\python\\ops\\resource_variable_ops.py:1630: calling BaseResourceVariable.__init__ (from tensorflow.python.ops.resource_variable_ops) with constraint is deprecated and will be removed in a future version.\n",
      "Instructions for updating:\n",
      "If using Keras pass *_constraint arguments to layers.\n"
     ]
    }
   ],
   "source": [
    "#MLP 모델 구조 정의하기\n",
    "model = Sequential()\n",
    "model.add(Dense(512, activation= 'relu', input_shape=(in_size,)))\n",
    "model.add(Dropout(0.2))\n",
    "model.add(Dense(512, activation = 'relu'))\n",
    "model.add(Dropout(0.2))\n",
    "model.add(Dense(out_size, activation= 'softmax'))"
   ]
  },
  {
   "cell_type": "code",
   "execution_count": 5,
   "metadata": {},
   "outputs": [],
   "source": [
    "#모델 컴파일하기\n",
    "model.compile(loss = 'categorical_crossentropy',\n",
    "             optimizer = RMSprop(),\n",
    "             metrics= ['accuracy'])"
   ]
  },
  {
   "cell_type": "code",
   "execution_count": 6,
   "metadata": {},
   "outputs": [
    {
     "name": "stdout",
     "output_type": "stream",
     "text": [
      "WARNING:tensorflow:From C:\\Users\\user\\anaconda\\envs\\test\\lib\\site-packages\\keras\\backend\\tensorflow_backend.py:422: The name tf.global_variables is deprecated. Please use tf.compat.v1.global_variables instead.\n",
      "\n",
      "Train on 60000 samples, validate on 10000 samples\n",
      "Epoch 1/50\n",
      "60000/60000 [==============================] - 17s 289us/step - loss: 0.2495 - accuracy: 0.9234 - val_loss: 0.1299 - val_accuracy: 0.9595\n",
      "Epoch 2/50\n",
      "60000/60000 [==============================] - 16s 263us/step - loss: 0.1041 - accuracy: 0.9682 - val_loss: 0.0913 - val_accuracy: 0.9729\n",
      "Epoch 3/50\n",
      "60000/60000 [==============================] - 15s 255us/step - loss: 0.0768 - accuracy: 0.9768 - val_loss: 0.0738 - val_accuracy: 0.9782\n",
      "Epoch 4/50\n",
      "60000/60000 [==============================] - 17s 280us/step - loss: 0.0604 - accuracy: 0.9819 - val_loss: 0.0710 - val_accuracy: 0.9797\n",
      "Epoch 5/50\n",
      "60000/60000 [==============================] - 15s 249us/step - loss: 0.0493 - accuracy: 0.9851 - val_loss: 0.0854 - val_accuracy: 0.9770\n",
      "Epoch 6/50\n",
      "60000/60000 [==============================] - 15s 256us/step - loss: 0.0449 - accuracy: 0.9869 - val_loss: 0.0760 - val_accuracy: 0.9823\n",
      "Epoch 7/50\n",
      "60000/60000 [==============================] - 16s 270us/step - loss: 0.0369 - accuracy: 0.9888 - val_loss: 0.0897 - val_accuracy: 0.9809\n",
      "Epoch 8/50\n",
      "60000/60000 [==============================] - 17s 285us/step - loss: 0.0344 - accuracy: 0.9899 - val_loss: 0.0846 - val_accuracy: 0.9817\n",
      "Epoch 9/50\n",
      "60000/60000 [==============================] - 16s 260us/step - loss: 0.0313 - accuracy: 0.9907 - val_loss: 0.0921 - val_accuracy: 0.9804\n",
      "Epoch 10/50\n",
      "60000/60000 [==============================] - 15s 249us/step - loss: 0.0288 - accuracy: 0.9916 - val_loss: 0.0919 - val_accuracy: 0.9825\n",
      "Epoch 11/50\n",
      "60000/60000 [==============================] - 15s 257us/step - loss: 0.0268 - accuracy: 0.9923 - val_loss: 0.0934 - val_accuracy: 0.9823\n",
      "Epoch 12/50\n",
      "60000/60000 [==============================] - 17s 291us/step - loss: 0.0239 - accuracy: 0.9930 - val_loss: 0.0945 - val_accuracy: 0.9838\n",
      "Epoch 13/50\n",
      "60000/60000 [==============================] - 17s 283us/step - loss: 0.0247 - accuracy: 0.9931 - val_loss: 0.1074 - val_accuracy: 0.9813\n",
      "Epoch 14/50\n",
      "60000/60000 [==============================] - 18s 294us/step - loss: 0.0218 - accuracy: 0.9940 - val_loss: 0.1002 - val_accuracy: 0.9850\n",
      "Epoch 15/50\n",
      "60000/60000 [==============================] - 17s 286us/step - loss: 0.0204 - accuracy: 0.9939 - val_loss: 0.1122 - val_accuracy: 0.9844\n",
      "Epoch 16/50\n",
      "60000/60000 [==============================] - 16s 275us/step - loss: 0.0206 - accuracy: 0.9943 - val_loss: 0.1069 - val_accuracy: 0.9831\n",
      "Epoch 17/50\n",
      "60000/60000 [==============================] - 16s 274us/step - loss: 0.0194 - accuracy: 0.9948 - val_loss: 0.1187 - val_accuracy: 0.9821\n",
      "Epoch 18/50\n",
      "60000/60000 [==============================] - 16s 273us/step - loss: 0.0191 - accuracy: 0.9949 - val_loss: 0.1191 - val_accuracy: 0.9828\n",
      "Epoch 19/50\n",
      "60000/60000 [==============================] - 18s 292us/step - loss: 0.0190 - accuracy: 0.9951 - val_loss: 0.1212 - val_accuracy: 0.9843\n",
      "Epoch 20/50\n",
      "60000/60000 [==============================] - 15s 256us/step - loss: 0.0171 - accuracy: 0.9953 - val_loss: 0.1178 - val_accuracy: 0.9851\n",
      "Epoch 21/50\n",
      "60000/60000 [==============================] - 15s 254us/step - loss: 0.0175 - accuracy: 0.9953 - val_loss: 0.1197 - val_accuracy: 0.9852\n",
      "Epoch 22/50\n",
      "60000/60000 [==============================] - 17s 283us/step - loss: 0.0192 - accuracy: 0.9951 - val_loss: 0.1468 - val_accuracy: 0.9829\n",
      "Epoch 23/50\n",
      "60000/60000 [==============================] - 17s 288us/step - loss: 0.0179 - accuracy: 0.9957 - val_loss: 0.1264 - val_accuracy: 0.9845\n",
      "Epoch 24/50\n",
      "60000/60000 [==============================] - 18s 305us/step - loss: 0.0155 - accuracy: 0.9963 - val_loss: 0.1411 - val_accuracy: 0.9846\n",
      "Epoch 25/50\n",
      "60000/60000 [==============================] - 21s 353us/step - loss: 0.0159 - accuracy: 0.9962 - val_loss: 0.1408 - val_accuracy: 0.9846\n",
      "Epoch 26/50\n",
      "60000/60000 [==============================] - 17s 282us/step - loss: 0.0155 - accuracy: 0.9962 - val_loss: 0.1448 - val_accuracy: 0.9848\n",
      "Epoch 27/50\n",
      "60000/60000 [==============================] - 17s 284us/step - loss: 0.0146 - accuracy: 0.9965 - val_loss: 0.1613 - val_accuracy: 0.9840\n",
      "Epoch 28/50\n",
      "60000/60000 [==============================] - 15s 255us/step - loss: 0.0167 - accuracy: 0.9966 - val_loss: 0.1597 - val_accuracy: 0.9821\n",
      "Epoch 29/50\n",
      "60000/60000 [==============================] - 16s 262us/step - loss: 0.0144 - accuracy: 0.9967 - val_loss: 0.1751 - val_accuracy: 0.9816\n",
      "Epoch 30/50\n",
      "60000/60000 [==============================] - 17s 291us/step - loss: 0.0141 - accuracy: 0.9966 - val_loss: 0.1592 - val_accuracy: 0.9845\n",
      "Epoch 31/50\n",
      "60000/60000 [==============================] - 18s 294us/step - loss: 0.0126 - accuracy: 0.9969 - val_loss: 0.1631 - val_accuracy: 0.9838\n",
      "Epoch 32/50\n",
      "60000/60000 [==============================] - 16s 273us/step - loss: 0.0136 - accuracy: 0.9965 - val_loss: 0.1743 - val_accuracy: 0.9853\n",
      "Epoch 33/50\n",
      "60000/60000 [==============================] - 17s 277us/step - loss: 0.0147 - accuracy: 0.9968 - val_loss: 0.1635 - val_accuracy: 0.9842\n",
      "Epoch 34/50\n",
      "60000/60000 [==============================] - 15s 256us/step - loss: 0.0145 - accuracy: 0.9967 - val_loss: 0.1905 - val_accuracy: 0.9826\n",
      "Epoch 35/50\n",
      "60000/60000 [==============================] - 15s 258us/step - loss: 0.0112 - accuracy: 0.9972 - val_loss: 0.1686 - val_accuracy: 0.9828\n",
      "Epoch 36/50\n",
      "60000/60000 [==============================] - 16s 270us/step - loss: 0.0119 - accuracy: 0.9975 - val_loss: 0.1862 - val_accuracy: 0.9841\n",
      "Epoch 37/50\n",
      "60000/60000 [==============================] - 17s 278us/step - loss: 0.0143 - accuracy: 0.9969 - val_loss: 0.1900 - val_accuracy: 0.9857\n",
      "Epoch 38/50\n",
      "60000/60000 [==============================] - 16s 268us/step - loss: 0.0110 - accuracy: 0.9975 - val_loss: 0.1624 - val_accuracy: 0.9840\n",
      "Epoch 39/50\n",
      "60000/60000 [==============================] - 16s 274us/step - loss: 0.0113 - accuracy: 0.9974 - val_loss: 0.1822 - val_accuracy: 0.9849\n",
      "Epoch 40/50\n",
      "60000/60000 [==============================] - 18s 294us/step - loss: 0.0116 - accuracy: 0.9975 - val_loss: 0.1730 - val_accuracy: 0.9845\n",
      "Epoch 41/50\n",
      "60000/60000 [==============================] - 15s 255us/step - loss: 0.0110 - accuracy: 0.9977 - val_loss: 0.1961 - val_accuracy: 0.9845\n",
      "Epoch 42/50\n",
      "60000/60000 [==============================] - 15s 257us/step - loss: 0.0117 - accuracy: 0.9973 - val_loss: 0.1783 - val_accuracy: 0.9849\n",
      "Epoch 43/50\n",
      "60000/60000 [==============================] - 16s 265us/step - loss: 0.0125 - accuracy: 0.9975 - val_loss: 0.1838 - val_accuracy: 0.9842\n",
      "Epoch 44/50\n",
      "60000/60000 [==============================] - 17s 277us/step - loss: 0.0124 - accuracy: 0.9977 - val_loss: 0.2086 - val_accuracy: 0.9823\n",
      "Epoch 45/50\n",
      "60000/60000 [==============================] - 16s 271us/step - loss: 0.0121 - accuracy: 0.9974 - val_loss: 0.2023 - val_accuracy: 0.9819\n",
      "Epoch 46/50\n",
      "60000/60000 [==============================] - 18s 303us/step - loss: 0.0125 - accuracy: 0.9977 - val_loss: 0.2123 - val_accuracy: 0.9826\n",
      "Epoch 47/50\n",
      "60000/60000 [==============================] - 18s 296us/step - loss: 0.0131 - accuracy: 0.9973 - val_loss: 0.1938 - val_accuracy: 0.9846\n",
      "Epoch 48/50\n",
      "60000/60000 [==============================] - 17s 279us/step - loss: 0.0102 - accuracy: 0.9980 - val_loss: 0.1858 - val_accuracy: 0.9849\n",
      "Epoch 49/50\n",
      "60000/60000 [==============================] - 19s 312us/step - loss: 0.0117 - accuracy: 0.9979 - val_loss: 0.2272 - val_accuracy: 0.9849\n",
      "Epoch 50/50\n",
      "60000/60000 [==============================] - 19s 315us/step - loss: 0.0104 - accuracy: 0.9979 - val_loss: 0.1965 - val_accuracy: 0.9862\n"
     ]
    }
   ],
   "source": [
    "#학습하기\n",
    "hist = model.fit(X_train, y_train,\n",
    "                batch_size = 128,\n",
    "                epochs = 50,\n",
    "                verbose = 1,\n",
    "                validation_data = (X_test, y_test))"
   ]
  },
  {
   "cell_type": "code",
   "execution_count": 7,
   "metadata": {},
   "outputs": [
    {
     "name": "stdout",
     "output_type": "stream",
     "text": [
      "10000/10000 [==============================] - 2s 192us/step\n",
      "정답률 =  0.9861999750137329 loss =  0.19647727831701797\n"
     ]
    }
   ],
   "source": [
    "#모델 평가하기\n",
    "score= model.evaluate(X_test, y_test, verbose = 1)\n",
    "print('정답률 = ', score[1], 'loss = ', score[0])"
   ]
  },
  {
   "cell_type": "code",
   "execution_count": 8,
   "metadata": {},
   "outputs": [
    {
     "data": {
      "image/png": "[encoded data removed]",
      "text/plain": [
       "<Figure size 432x288 with 1 Axes>"
      ]
     },
     "metadata": {
      "needs_background": "light"
     },
     "output_type": "display_data"
    }
   ],
   "source": [
    "#손실 추이를 그래프로 그리기\n",
    "plt.plot(hist.history['loss'])\n",
    "plt.plot(hist.history['val_loss'])\n",
    "plt.title('Loss')\n",
    "plt.legend(['train', 'test'], loc = 'upper left')\n",
    "plt.show()"
   ]
  }
 ],
 "metadata": {
  "kernelspec": {
   "display_name": "Python 3",
   "language": "python",
   "name": "python3"
  },
  "language_info": {
   "codemirror_mode": {
    "name": "ipython",
    "version": 3
   },
   "file_extension": ".py",
   "mimetype": "text/x-python",
   "name": "python",
   "nbconvert_exporter": "python",
   "pygments_lexer": "ipython3",
   "version": "3.7.7"
  }
 },
 "nbformat": 4,
 "nbformat_minor": 4
}
