{
 "cells": [
  {
   "cell_type": "code",
   "execution_count": 1,
   "metadata": {},
   "outputs": [
    {
     "name": "stderr",
     "output_type": "stream",
     "text": [
      "Using TensorFlow backend.\n"
     ]
    }
   ],
   "source": [
    "#MLP로 MNIST분류 문제 풀기\n",
    "import keras\n",
    "from keras.models import Sequential\n",
    "from keras.layers import Dense, Dropout\n",
    "from keras.optimizers import RMSprop\n",
    "from keras.datasets import mnist\n",
    "import matplotlib.pyplot as plt"
   ]
  },
  {
   "cell_type": "code",
   "execution_count": 2,
   "metadata": {},
   "outputs": [],
   "source": [
    "#입력과 출력 지정하기\n",
    "in_size = 28*28\n",
    "out_size = 10"
   ]
  },
  {
   "cell_type": "code",
   "execution_count": 3,
   "metadata": {},
   "outputs": [],
   "source": [
    "#MNIST 데이터 읽어 들이기\n",
    "(X_train, y_train), (X_test, y_test) = mnist.load_data()\n",
    "\n",
    "#데이터를 28*28 = 784 1차원 배열로 변환하기\n",
    "X_train = X_train.reshape(-1, 784).astype('float32')/255\n",
    "X_test = X_test.reshape(-1, 784).astype('float32')/255\n",
    "\n",
    "#레이블 데이터를 One-hot 형식으로 변환하기\n",
    "y_train = keras.utils.np_utils.to_categorical(y_train.astype('int32'), 10)\n",
    "y_test = keras.utils.np_utils.to_categorical(y_test.astype('int32'), 10)"
   ]
  },
  {
   "cell_type": "code",
   "execution_count": 4,
   "metadata": {},
   "outputs": [
    {
     "name": "stdout",
     "output_type": "stream",
     "text": [
      "WARNING:tensorflow:From C:\\Users\\user\\anaconda\\envs\\test\\lib\\site-packages\\tensorflow_core\\python\\ops\\resource_variable_ops.py:1630: calling BaseResourceVariable.__init__ (from tensorflow.python.ops.resource_variable_ops) with constraint is deprecated and will be removed in a future version.\n",
      "Instructions for updating:\n",
      "If using Keras pass *_constraint arguments to layers.\n"
     ]
    }
   ],
   "source": [
    "#MLP 모델 구조 정의하기\n",
    "model = Sequential()\n",
    "model.add(Dense(512, activation= 'relu', input_shape=(in_size,)))\n",
    "model.add(Dropout(0.2))\n",
    "model.add(Dense(512, activation = 'relu'))\n",
    "model.add(Dropout(0.2))\n",
    "model.add(Dense(out_size, activation= 'softmax'))"
   ]
  },
  {
   "cell_type": "code",
   "execution_count": 5,
   "metadata": {},
   "outputs": [],
   "source": [
    "#모델 컴파일하기\n",
    "model.compile(loss = 'categorical_crossentropy',\n",
    "             optimizer = RMSprop(),\n",
    "             metrics= ['accuracy'])"
   ]
  },
  {
   "cell_type": "code",
   "execution_count": 6,
   "metadata": {},
   "outputs": [
    {
     "name": "stdout",
     "output_type": "stream",
     "text": [
      "WARNING:tensorflow:From C:\\Users\\user\\anaconda\\envs\\test\\lib\\site-packages\\keras\\backend\\tensorflow_backend.py:422: The name tf.global_variables is deprecated. Please use tf.compat.v1.global_variables instead.\n",
      "\n",
      "Train on 60000 samples, validate on 10000 samples\n",
      "Epoch 1/50\n",
      "60000/60000 [==============================] - 14s 228us/step - loss: 0.2430 - accuracy: 0.9244 - val_loss: 0.0948 - val_accuracy: 0.9694\n",
      "Epoch 2/50\n",
      "60000/60000 [==============================] - 14s 227us/step - loss: 0.1014 - accuracy: 0.9691 - val_loss: 0.0911 - val_accuracy: 0.9714\n",
      "Epoch 3/50\n",
      "60000/60000 [==============================] - 14s 227us/step - loss: 0.0750 - accuracy: 0.9772 - val_loss: 0.0705 - val_accuracy: 0.9788\n",
      "Epoch 4/50\n",
      "60000/60000 [==============================] - 14s 228us/step - loss: 0.0603 - accuracy: 0.9821 - val_loss: 0.0717 - val_accuracy: 0.9804\n",
      "Epoch 5/50\n",
      "60000/60000 [==============================] - 14s 226us/step - loss: 0.0509 - accuracy: 0.9844 - val_loss: 0.0696 - val_accuracy: 0.9813\n",
      "Epoch 6/50\n",
      "60000/60000 [==============================] - 14s 226us/step - loss: 0.0442 - accuracy: 0.9869 - val_loss: 0.0827 - val_accuracy: 0.9797\n",
      "Epoch 7/50\n",
      "60000/60000 [==============================] - 14s 230us/step - loss: 0.0395 - accuracy: 0.9878 - val_loss: 0.0891 - val_accuracy: 0.9807\n",
      "Epoch 8/50\n",
      "60000/60000 [==============================] - 14s 227us/step - loss: 0.0340 - accuracy: 0.9901 - val_loss: 0.0964 - val_accuracy: 0.9789\n",
      "Epoch 9/50\n",
      "60000/60000 [==============================] - 14s 233us/step - loss: 0.0314 - accuracy: 0.9908 - val_loss: 0.0957 - val_accuracy: 0.9818\n",
      "Epoch 10/50\n",
      "60000/60000 [==============================] - 14s 230us/step - loss: 0.0283 - accuracy: 0.9919 - val_loss: 0.0961 - val_accuracy: 0.9818\n",
      "Epoch 11/50\n",
      "60000/60000 [==============================] - 14s 231us/step - loss: 0.0264 - accuracy: 0.9920 - val_loss: 0.1151 - val_accuracy: 0.9799\n",
      "Epoch 12/50\n",
      "60000/60000 [==============================] - 14s 228us/step - loss: 0.0249 - accuracy: 0.9927 - val_loss: 0.0929 - val_accuracy: 0.9835\n",
      "Epoch 13/50\n",
      "60000/60000 [==============================] - 14s 232us/step - loss: 0.0258 - accuracy: 0.9932 - val_loss: 0.0957 - val_accuracy: 0.9845\n",
      "Epoch 14/50\n",
      "60000/60000 [==============================] - 14s 234us/step - loss: 0.0219 - accuracy: 0.9936 - val_loss: 0.1071 - val_accuracy: 0.9829\n",
      "Epoch 15/50\n",
      "60000/60000 [==============================] - 15s 247us/step - loss: 0.0199 - accuracy: 0.9944 - val_loss: 0.1132 - val_accuracy: 0.9826\n",
      "Epoch 16/50\n",
      "60000/60000 [==============================] - 15s 247us/step - loss: 0.0201 - accuracy: 0.9945 - val_loss: 0.1043 - val_accuracy: 0.9835\n",
      "Epoch 17/50\n",
      "60000/60000 [==============================] - 17s 284us/step - loss: 0.0200 - accuracy: 0.9944 - val_loss: 0.1152 - val_accuracy: 0.9840\n",
      "Epoch 18/50\n",
      "60000/60000 [==============================] - 13s 224us/step - loss: 0.0183 - accuracy: 0.9948 - val_loss: 0.1170 - val_accuracy: 0.9823\n",
      "Epoch 19/50\n",
      "60000/60000 [==============================] - 14s 227us/step - loss: 0.0164 - accuracy: 0.9954 - val_loss: 0.1362 - val_accuracy: 0.9818\n",
      "Epoch 20/50\n",
      "60000/60000 [==============================] - 13s 223us/step - loss: 0.0163 - accuracy: 0.9954 - val_loss: 0.1356 - val_accuracy: 0.9830\n",
      "Epoch 21/50\n",
      "60000/60000 [==============================] - 13s 224us/step - loss: 0.0176 - accuracy: 0.9955 - val_loss: 0.1272 - val_accuracy: 0.9831\n",
      "Epoch 22/50\n",
      "60000/60000 [==============================] - 13s 223us/step - loss: 0.0160 - accuracy: 0.9958 - val_loss: 0.1308 - val_accuracy: 0.9822\n",
      "Epoch 23/50\n",
      "60000/60000 [==============================] - 13s 221us/step - loss: 0.0156 - accuracy: 0.9964 - val_loss: 0.1547 - val_accuracy: 0.9838\n",
      "Epoch 24/50\n",
      "60000/60000 [==============================] - 14s 227us/step - loss: 0.0169 - accuracy: 0.9960 - val_loss: 0.1405 - val_accuracy: 0.9836\n",
      "Epoch 25/50\n",
      "60000/60000 [==============================] - 13s 222us/step - loss: 0.0149 - accuracy: 0.9962 - val_loss: 0.1348 - val_accuracy: 0.9846\n",
      "Epoch 26/50\n",
      "60000/60000 [==============================] - 15s 242us/step - loss: 0.0145 - accuracy: 0.9963 - val_loss: 0.1467 - val_accuracy: 0.9823\n",
      "Epoch 27/50\n",
      "60000/60000 [==============================] - 14s 226us/step - loss: 0.0127 - accuracy: 0.9965 - val_loss: 0.1582 - val_accuracy: 0.9824\n",
      "Epoch 28/50\n",
      "60000/60000 [==============================] - 14s 230us/step - loss: 0.0142 - accuracy: 0.9969 - val_loss: 0.1743 - val_accuracy: 0.9829\n",
      "Epoch 29/50\n",
      "60000/60000 [==============================] - 14s 230us/step - loss: 0.0140 - accuracy: 0.9964 - val_loss: 0.1539 - val_accuracy: 0.9837\n",
      "Epoch 30/50\n",
      "60000/60000 [==============================] - 14s 232us/step - loss: 0.0157 - accuracy: 0.9965 - val_loss: 0.1498 - val_accuracy: 0.9837\n",
      "Epoch 31/50\n",
      "60000/60000 [==============================] - 14s 227us/step - loss: 0.0141 - accuracy: 0.9966 - val_loss: 0.1469 - val_accuracy: 0.9843\n",
      "Epoch 32/50\n",
      "60000/60000 [==============================] - 14s 229us/step - loss: 0.0130 - accuracy: 0.9970 - val_loss: 0.1693 - val_accuracy: 0.9830\n",
      "Epoch 33/50\n",
      "60000/60000 [==============================] - 14s 231us/step - loss: 0.0125 - accuracy: 0.9968 - val_loss: 0.1695 - val_accuracy: 0.9825\n",
      "Epoch 34/50\n",
      "60000/60000 [==============================] - 14s 234us/step - loss: 0.0139 - accuracy: 0.9969 - val_loss: 0.1640 - val_accuracy: 0.9847\n",
      "Epoch 35/50\n",
      "60000/60000 [==============================] - 14s 235us/step - loss: 0.0122 - accuracy: 0.9973 - val_loss: 0.1563 - val_accuracy: 0.9839\n",
      "Epoch 36/50\n",
      "60000/60000 [==============================] - 14s 230us/step - loss: 0.0119 - accuracy: 0.9971 - val_loss: 0.1673 - val_accuracy: 0.9829\n",
      "Epoch 37/50\n",
      "60000/60000 [==============================] - 14s 230us/step - loss: 0.0116 - accuracy: 0.9973 - val_loss: 0.1828 - val_accuracy: 0.9817\n",
      "Epoch 38/50\n",
      "60000/60000 [==============================] - 14s 233us/step - loss: 0.0128 - accuracy: 0.9973 - val_loss: 0.1533 - val_accuracy: 0.9838\n",
      "Epoch 39/50\n",
      "60000/60000 [==============================] - 14s 233us/step - loss: 0.0118 - accuracy: 0.9973 - val_loss: 0.1569 - val_accuracy: 0.9850\n",
      "Epoch 40/50\n",
      "60000/60000 [==============================] - 14s 227us/step - loss: 0.0117 - accuracy: 0.9975 - val_loss: 0.1904 - val_accuracy: 0.9836\n",
      "Epoch 41/50\n",
      "60000/60000 [==============================] - 14s 236us/step - loss: 0.0117 - accuracy: 0.9975 - val_loss: 0.1828 - val_accuracy: 0.9820\n",
      "Epoch 42/50\n",
      "60000/60000 [==============================] - 14s 229us/step - loss: 0.0129 - accuracy: 0.9976 - val_loss: 0.1712 - val_accuracy: 0.9839\n",
      "Epoch 43/50\n",
      "60000/60000 [==============================] - 14s 235us/step - loss: 0.0101 - accuracy: 0.9977 - val_loss: 0.1899 - val_accuracy: 0.9838\n",
      "Epoch 44/50\n",
      "60000/60000 [==============================] - 15s 244us/step - loss: 0.0107 - accuracy: 0.9973 - val_loss: 0.1757 - val_accuracy: 0.9853\n",
      "Epoch 45/50\n",
      "60000/60000 [==============================] - 14s 227us/step - loss: 0.0118 - accuracy: 0.9976 - val_loss: 0.1830 - val_accuracy: 0.9853\n",
      "Epoch 46/50\n",
      "60000/60000 [==============================] - 15s 251us/step - loss: 0.0101 - accuracy: 0.9977 - val_loss: 0.1953 - val_accuracy: 0.9828\n",
      "Epoch 47/50\n",
      "60000/60000 [==============================] - 14s 232us/step - loss: 0.0114 - accuracy: 0.9977 - val_loss: 0.1781 - val_accuracy: 0.9835\n",
      "Epoch 48/50\n",
      "60000/60000 [==============================] - 14s 231us/step - loss: 0.0116 - accuracy: 0.9976 - val_loss: 0.1846 - val_accuracy: 0.9827\n",
      "Epoch 49/50\n",
      "60000/60000 [==============================] - 14s 230us/step - loss: 0.0112 - accuracy: 0.9978 - val_loss: 0.2057 - val_accuracy: 0.9839\n",
      "Epoch 50/50\n",
      "60000/60000 [==============================] - 14s 233us/step - loss: 0.0101 - accuracy: 0.9978 - val_loss: 0.1920 - val_accuracy: 0.9835\n"
     ]
    }
   ],
   "source": [
    "#학습하기\n",
    "hist = model.fit(X_train, y_train,\n",
    "                batch_size = 128,\n",
    "                epochs = 50,\n",
    "                verbose = 1,\n",
    "                validation_data = (X_test, y_test))"
   ]
  },
  {
   "cell_type": "code",
   "execution_count": 7,
   "metadata": {},
   "outputs": [
    {
     "name": "stdout",
     "output_type": "stream",
     "text": [
      "10000/10000 [==============================] - 1s 108us/step\n",
      "정답률 =  0.9835000038146973 loss =  0.19195047024059564\n"
     ]
    }
   ],
   "source": [
    "#모델 평가하기\n",
    "score= model.evaluate(X_test, y_test, verbose = 1)\n",
    "print('정답률 = ', score[1], 'loss = ', score[0])"
   ]
  },
  {
   "cell_type": "code",
   "execution_count": 8,
   "metadata": {},
   "outputs": [
    {
     "data": {
      "image/png": "[encoded data removed]",
      "text/plain": [
       "<Figure size 432x288 with 1 Axes>"
      ]
     },
     "metadata": {
      "needs_background": "light"
     },
     "output_type": "display_data"
    }
   ],
   "source": [
    "# 정답률 추이를 그래프로 그리기\n",
    "plt.plot(hist.history['accuracy'])\n",
    "plt.plot(hist.history['val_accuracy'])\n",
    "plt.title('Accuracy')\n",
    "plt.legend(['train', 'test'], loc='upper left')\n",
    "plt.show()"
   ]
  },
  {
   "cell_type": "code",
   "execution_count": 9,
   "metadata": {},
   "outputs": [
    {
     "data": {
      "image/png": "[encoded data removed]",
      "text/plain": [
       "<Figure size 432x288 with 1 Axes>"
      ]
     },
     "metadata": {
      "needs_background": "light"
     },
     "output_type": "display_data"
    }
   ],
   "source": [
    "#손실 추이를 그래프로 그리기\n",
    "plt.plot(hist.history['loss'])\n",
    "plt.plot(hist.history['val_loss'])\n",
    "plt.title('Loss')\n",
    "plt.legend(['train', 'test'], loc = 'upper left')\n",
    "plt.show()"
   ]
  }
 ],
 "metadata": {
  "kernelspec": {
   "display_name": "Python 3",
   "language": "python",
   "name": "python3"
  },
  "language_info": {
   "codemirror_mode": {
    "name": "ipython",
    "version": 3
   },
   "file_extension": ".py",
   "mimetype": "text/x-python",
   "name": "python",
   "nbconvert_exporter": "python",
   "pygments_lexer": "ipython3",
   "version": "3.7.7"
  }
 },
 "nbformat": 4,
 "nbformat_minor": 4
}
