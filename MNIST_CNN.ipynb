{
 "cells": [
  {
   "cell_type": "code",
   "execution_count": 1,
   "metadata": {},
   "outputs": [
    {
     "name": "stderr",
     "output_type": "stream",
     "text": [
      "Using TensorFlow backend.\n"
     ]
    }
   ],
   "source": [
    "# CNN으로 MNIST 분류 문제 풀기\n",
    "import keras\n",
    "from keras.models import Sequential\n",
    "from keras.layers import Dense, Dropout, Flatten\n",
    "from keras.layers import Conv2D, MaxPooling2D\n",
    "from keras.optimizers import RMSprop \n",
    "from keras.datasets import mnist\n",
    "import matplotlib.pyplot as plt"
   ]
  },
  {
   "cell_type": "code",
   "execution_count": 2,
   "metadata": {},
   "outputs": [],
   "source": [
    "# 입력과 출력 지정하기\n",
    "im_rows = 28 # 이미지의 높이\n",
    "im_cols = 28 # 이미지의 너비\n",
    "im_color = 1 # 이미지의 색공간 / 그레이스케일\n",
    "in_shape = (im_rows, im_cols, im_color)\n",
    "out_size = 10"
   ]
  },
  {
   "cell_type": "code",
   "execution_count": 3,
   "metadata": {},
   "outputs": [],
   "source": [
    "# MNIST 데이터 읽어 들이기 \n",
    "(X_train, y_train), (X_test, y_test) = mnist.load_data()"
   ]
  },
  {
   "cell_type": "code",
   "execution_count": 4,
   "metadata": {},
   "outputs": [],
   "source": [
    "# 읽어들인 데이터를 3차원 배열로 변환하기\n",
    "X_train = X_train.reshape(-1, im_rows, im_cols, im_color)\n",
    "X_train = X_train.astype('float32') / 255\n",
    "X_test = X_test.reshape(-1, im_rows, im_cols, im_color)\n",
    "X_test = X_test.astype('float32') / 255"
   ]
  },
  {
   "cell_type": "code",
   "execution_count": 5,
   "metadata": {},
   "outputs": [],
   "source": [
    "# 레이블 데이터를 One-hot 형식으로 변환하기\n",
    "y_train = keras.utils.np_utils.to_categorical(y_train.astype('int32'),10)\n",
    "y_test = keras.utils.np_utils.to_categorical(y_test.astype('int32'),10)"
   ]
  },
  {
   "cell_type": "code",
   "execution_count": 6,
   "metadata": {},
   "outputs": [
    {
     "name": "stdout",
     "output_type": "stream",
     "text": [
      "WARNING:tensorflow:From C:\\Users\\user\\anaconda\\envs\\test\\lib\\site-packages\\tensorflow_core\\python\\ops\\resource_variable_ops.py:1630: calling BaseResourceVariable.__init__ (from tensorflow.python.ops.resource_variable_ops) with constraint is deprecated and will be removed in a future version.\n",
      "Instructions for updating:\n",
      "If using Keras pass *_constraint arguments to layers.\n",
      "WARNING:tensorflow:From C:\\Users\\user\\anaconda\\envs\\test\\lib\\site-packages\\keras\\backend\\tensorflow_backend.py:4070: The name tf.nn.max_pool is deprecated. Please use tf.nn.max_pool2d instead.\n",
      "\n"
     ]
    }
   ],
   "source": [
    "# CNN모델의 구조 정의하기 --- (*2)\n",
    "model = Sequential()\n",
    "model.add(Conv2D(32, \n",
    "          kernel_size=(3, 3),\n",
    "          activation='relu',\n",
    "          input_shape=in_shape))\n",
    "model.add(Conv2D(64, (3, 3), activation='relu'))\n",
    "model.add(MaxPooling2D(pool_size=(2, 2)))\n",
    "model.add(Dropout(0.25))\n",
    "model.add(Flatten())\n",
    "model.add(Dense(128, activation='relu'))\n",
    "model.add(Dropout(0.5))\n",
    "model.add(Dense(out_size, activation='softmax'))"
   ]
  },
  {
   "cell_type": "code",
   "execution_count": 7,
   "metadata": {},
   "outputs": [],
   "source": [
    "# 모델 컴파일하기 \n",
    "model.compile(\n",
    "    loss='categorical_crossentropy',\n",
    "    optimizer=RMSprop(),\n",
    "    metrics=['accuracy'])"
   ]
  },
  {
   "cell_type": "code",
   "execution_count": 8,
   "metadata": {},
   "outputs": [
    {
     "name": "stdout",
     "output_type": "stream",
     "text": [
      "WARNING:tensorflow:From C:\\Users\\user\\anaconda\\envs\\test\\lib\\site-packages\\keras\\backend\\tensorflow_backend.py:422: The name tf.global_variables is deprecated. Please use tf.compat.v1.global_variables instead.\n",
      "\n",
      "Train on 60000 samples, validate on 10000 samples\n",
      "Epoch 1/12\n",
      "60000/60000 [==============================] - 234s 4ms/step - loss: 0.2255 - accuracy: 0.9326 - val_loss: 0.0537 - val_accuracy: 0.9834\n",
      "Epoch 2/12\n",
      "60000/60000 [==============================] - 205s 3ms/step - loss: 0.0792 - accuracy: 0.9765 - val_loss: 0.0366 - val_accuracy: 0.9884\n",
      "Epoch 3/12\n",
      "60000/60000 [==============================] - 203s 3ms/step - loss: 0.0627 - accuracy: 0.9822 - val_loss: 0.0360 - val_accuracy: 0.9883\n",
      "Epoch 4/12\n",
      "60000/60000 [==============================] - 204s 3ms/step - loss: 0.0523 - accuracy: 0.9843 - val_loss: 0.0325 - val_accuracy: 0.9886\n",
      "Epoch 5/12\n",
      "60000/60000 [==============================] - 205s 3ms/step - loss: 0.0473 - accuracy: 0.9864 - val_loss: 0.0348 - val_accuracy: 0.9886\n",
      "Epoch 6/12\n",
      "60000/60000 [==============================] - 205s 3ms/step - loss: 0.0454 - accuracy: 0.9871 - val_loss: 0.0393 - val_accuracy: 0.9892\n",
      "Epoch 7/12\n",
      "60000/60000 [==============================] - 204s 3ms/step - loss: 0.0447 - accuracy: 0.9873 - val_loss: 0.0378 - val_accuracy: 0.9884\n",
      "Epoch 8/12\n",
      "60000/60000 [==============================] - 205s 3ms/step - loss: 0.0475 - accuracy: 0.9869 - val_loss: 0.0317 - val_accuracy: 0.9905\n",
      "Epoch 9/12\n",
      "60000/60000 [==============================] - 205s 3ms/step - loss: 0.0463 - accuracy: 0.9864 - val_loss: 0.0384 - val_accuracy: 0.9896\n",
      "Epoch 10/12\n",
      "60000/60000 [==============================] - 204s 3ms/step - loss: 0.0492 - accuracy: 0.9868 - val_loss: 0.0361 - val_accuracy: 0.9902\n",
      "Epoch 11/12\n",
      "60000/60000 [==============================] - 206s 3ms/step - loss: 0.0511 - accuracy: 0.9863 - val_loss: 0.0357 - val_accuracy: 0.9888\n",
      "Epoch 12/12\n",
      "60000/60000 [==============================] - 205s 3ms/step - loss: 0.0510 - accuracy: 0.9865 - val_loss: 0.0343 - val_accuracy: 0.9901\n"
     ]
    }
   ],
   "source": [
    "# 학습 실행하기\n",
    "hist = model.fit(X_train, y_train,\n",
    "          batch_size=128, \n",
    "          epochs=12,\n",
    "          verbose=1,\n",
    "          validation_data=(X_test, y_test))"
   ]
  },
  {
   "cell_type": "code",
   "execution_count": 9,
   "metadata": {},
   "outputs": [
    {
     "name": "stdout",
     "output_type": "stream",
     "text": [
      "10000/10000 [==============================] - 10s 950us/step\n",
      "정답률= 0.9901000261306763 loss= 0.03429470170630375\n"
     ]
    }
   ],
   "source": [
    "# 모델 평가하기 \n",
    "score = model.evaluate(X_test, y_test, verbose=1)\n",
    "print('정답률=', score[1], 'loss=', score[0])"
   ]
  },
  {
   "cell_type": "code",
   "execution_count": 10,
   "metadata": {},
   "outputs": [
    {
     "data": {
      "image/png": "[encoded data removed]",
      "text/plain": [
       "<Figure size 432x288 with 1 Axes>"
      ]
     },
     "metadata": {
      "needs_background": "light"
     },
     "output_type": "display_data"
    }
   ],
   "source": [
    "# 손실 추이를 그래프로 그리기\n",
    "plt.plot(hist.history['loss'])\n",
    "plt.plot(hist.history['val_loss'])\n",
    "plt.title('Loss')\n",
    "plt.legend(['train', 'test'], loc='upper left')\n",
    "plt.show()"
   ]
  }
 ],
 "metadata": {
  "kernelspec": {
   "display_name": "Python 3",
   "language": "python",
   "name": "python3"
  },
  "language_info": {
   "codemirror_mode": {
    "name": "ipython",
    "version": 3
   },
   "file_extension": ".py",
   "mimetype": "text/x-python",
   "name": "python",
   "nbconvert_exporter": "python",
   "pygments_lexer": "ipython3",
   "version": "3.7.7"
  }
 },
 "nbformat": 4,
 "nbformat_minor": 4
}
